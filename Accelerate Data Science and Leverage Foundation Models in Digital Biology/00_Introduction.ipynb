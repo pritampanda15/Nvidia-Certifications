{
 "cells": [
  {
   "cell_type": "markdown",
   "id": "c4be4136-f2c2-4a6c-9e42-f4a576e60f9f",
   "metadata": {
    "tags": []
   },
   "source": [
    "<img src=\"images/nvidia_header.png\" style=\"margin-left: -30px; width: 300px; float: left;\">"
   ]
  },
  {
   "cell_type": "markdown",
   "id": "67ed6062",
   "metadata": {},
   "source": [
    "# Accelerating Data Science and Leveraging Foundation Models in Digital Biology #"
   ]
  },
  {
   "cell_type": "markdown",
   "id": "a65f57f0",
   "metadata": {},
   "source": [
    "## Part 0: Introduction ##\n",
    "Welcome to NVIDIA's Accelerating Data Science and Leveraging Foundation Models in Digital Biology course. "
   ]
  },
  {
   "attachments": {},
   "cell_type": "markdown",
   "id": "50d32b6c",
   "metadata": {},
   "source": [
    "**Learning Objectives**\n",
    "<br>\n",
    "In this course, you will learn: \n",
    "* Data processing using RAPIDS Single Cell\n",
    "* Label Transfer using BioNeMo Framework"
   ]
  },
  {
   "cell_type": "markdown",
   "id": "3a02c2b6",
   "metadata": {},
   "source": [
    "### JupyterLab ###\n",
    "For this hands-on lab, we use [JupyterLab](https://jupyterlab.readthedocs.io/en/stable/) to manage our environment.  The [JupyterLab Interface](https://jupyterlab.readthedocs.io/en/stable/user/interface.html) is a dashboard that provides access to interactive iPython notebooks, as well as the folder structure of our environment and a terminal window into the Ubuntu operating system. The first view includes a **menu bar** at the top, a **file browser** in the **left sidebar**, and a **main work area** that is initially open to this \"introduction\" notebook. \n",
    "\n",
    "<p><img src=\"images/jl_launcher.png\" width=720></p>\n",
    "\n",
    "* The file browser can be navigated just like any other file explorer. A double click on any of the items will open a new tab with its content. \n",
    "* The main work area includes tabbed views of open files that can be closed, moved, and edited as needed. \n",
    "* The notebooks, including this one, consist of a series of content and code **cells**. To execute code in a code cell, press `Shift+Enter` or the `Run` button in the menu bar above, while a cell is highlighted. Sometimes, a content cell will get switched to editing mode. Executing the cell with `Shift+Enter` or the `Run` button will switch it back to a readable form.\n",
    "* To interrupt cell execution, click the `Stop` button in the menu bar or navigate to the `Kernel` menu, and select `Interrupt Kernel`. \n",
    "* We can use terminal commands in the notebook cells by prepending an exclamation point/bang(`!`) to the beginning of the command.\n",
    "* We can create additional interactive cells by clicking the `+` button above, or by switching to command mode with `Esc` and using the keyboard shortcuts `a` (for new cell above) and `b` (for new cell below)."
   ]
  },
  {
   "cell_type": "markdown",
   "id": "4492c58d",
   "metadata": {},
   "source": [
    "<a name='e1'></a>\n",
    "### Exercise #1 - Practice ###\n",
    "**Instructions**: <br>\n",
    "* Try executing the simple print statement in the below cell.\n",
    "* Then try executing the terminal command in the cell below."
   ]
  },
  {
   "cell_type": "code",
   "execution_count": 1,
   "id": "e69a6515",
   "metadata": {
    "scrolled": true
   },
   "outputs": [
    {
     "name": "stdout",
     "output_type": "stream",
     "text": [
      "This is just a simple print statement.\n"
     ]
    }
   ],
   "source": [
    "# DO NOT CHANGE THIS CELL\n",
    "# activate this cell by selecting it with the mouse or arrow keys then use the keyboard shortcut [Shift+Enter] to execute\n",
    "print('This is just a simple print statement.')"
   ]
  },
  {
   "cell_type": "code",
   "execution_count": 2,
   "id": "e54fe372",
   "metadata": {
    "scrolled": true
   },
   "outputs": [
    {
     "name": "stdout",
     "output_type": "stream",
     "text": [
      "This is another simple print statement.\n"
     ]
    }
   ],
   "source": [
    "# DO NOT CHANGE THIS CELL\n",
    "!echo 'This is another simple print statement.'"
   ]
  },
  {
   "cell_type": "markdown",
   "id": "c2e5151b-4842-465e-a20d-bb64af66d011",
   "metadata": {},
   "source": [
    "<a name='e2'></a>\n",
    "### Exercise #2 - Available GPU Accelerators ###\n",
    "The `nvidia-smi` (NVIDIA System Management Interface) command is a powerful utility for managing and monitoring NVIDIA GPU devices. It will print information about available GPUs, their current memory usage, and any processes currently utilizing them. \n",
    "\n",
    "**Instructions**: <br>\n",
    "* Execute the below cell to learn about this environment's available GPUs. "
   ]
  },
  {
   "cell_type": "code",
   "execution_count": 1,
   "id": "08d543eb-a951-4eb9-8107-b13c01b3ac46",
   "metadata": {
    "scrolled": true
   },
   "outputs": [
    {
     "name": "stdout",
     "output_type": "stream",
     "text": [
      "Thu Oct 23 13:24:22 2025       \n",
      "+---------------------------------------------------------------------------------------+\n",
      "| NVIDIA-SMI 535.104.12             Driver Version: 535.104.12   CUDA Version: 12.8     |\n",
      "|-----------------------------------------+----------------------+----------------------+\n",
      "| GPU  Name                 Persistence-M | Bus-Id        Disp.A | Volatile Uncorr. ECC |\n",
      "| Fan  Temp   Perf          Pwr:Usage/Cap |         Memory-Usage | GPU-Util  Compute M. |\n",
      "|                                         |                      |               MIG M. |\n",
      "|=========================================+======================+======================|\n",
      "|   0  NVIDIA A100 80GB PCIe          On  | 00000001:00:00.0 Off |                    0 |\n",
      "| N/A   31C    P0              60W / 300W |   3238MiB / 81920MiB |      0%      Default |\n",
      "|                                         |                      |             Disabled |\n",
      "+-----------------------------------------+----------------------+----------------------+\n",
      "                                                                                         \n",
      "+---------------------------------------------------------------------------------------+\n",
      "| Processes:                                                                            |\n",
      "|  GPU   GI   CI        PID   Type   Process name                            GPU Memory |\n",
      "|        ID   ID                                                             Usage      |\n",
      "|=======================================================================================|\n",
      "+---------------------------------------------------------------------------------------+\n"
     ]
    }
   ],
   "source": [
    "# DO NOT CHANGE THIS CELL\n",
    "!nvidia-smi"
   ]
  },
  {
   "cell_type": "code",
   "execution_count": null,
   "id": "ce5c1e0f-4340-4317-93bd-5c085d07e12e",
   "metadata": {},
   "outputs": [],
   "source": []
  },
  {
   "cell_type": "markdown",
   "id": "adee74e3-613a-4986-be34-ff3ae113ccc7",
   "metadata": {},
   "source": [
    "**Note**: Currently, GPU memory usage is minimal, with no active processes utilizing the GPUs. Throughout our session, we'll employ this command to monitor memory consumption. When conducting GPU-based data analysis, it's advisable to maintain approximately 50% of GPU memory free, allowing for operations that may expand data stored on the device."
   ]
  },
  {
   "cell_type": "markdown",
   "id": "07a720f3-15c5-4227-821c-0244c651bfae",
   "metadata": {},
   "source": [
    "<a name='e3'></a>\n",
    "### Exercise #3 - Magic Commands ###\n",
    "The Jupyter environment come installed with *magic* commands, which can be recognized by the presence of `%` or `%%`. We will be using two magic commands liberally in this workshop: \n",
    "* `%time`: prints summary information about how long it took to run code for a single line of code\n",
    "* `%%time`: prints summary information about how long it took to run code for an entire cell\n",
    "\n",
    "**Instructions**: <br>\n",
    "* Execute the below cell to import the `time` library. \n",
    "* Execute the cell below to time the single line of code. \n",
    "* Execute the cell below to time the entire cell. "
   ]
  },
  {
   "cell_type": "code",
   "execution_count": 4,
   "id": "bd798762-160d-4617-9880-fff55715c2f7",
   "metadata": {},
   "outputs": [],
   "source": [
    "# DO NOT CHANGE THIS CELL\n",
    "from time import sleep"
   ]
  },
  {
   "cell_type": "code",
   "execution_count": 5,
   "id": "0ace662f-25d7-43ad-9210-e8da2f788ed4",
   "metadata": {
    "scrolled": true
   },
   "outputs": [
    {
     "name": "stdout",
     "output_type": "stream",
     "text": [
      "CPU times: user 907 μs, sys: 232 μs, total: 1.14 ms\n",
      "Wall time: 1 s\n"
     ]
    }
   ],
   "source": [
    "# DO NOT CHANGE THIS CELL\n",
    "# %time only times one line\n",
    "%time sleep(1) \n",
    "sleep(1)"
   ]
  },
  {
   "cell_type": "code",
   "execution_count": 6,
   "id": "c6c94a9f-f16d-4c7a-b279-4c219ce783ad",
   "metadata": {
    "scrolled": true
   },
   "outputs": [
    {
     "name": "stdout",
     "output_type": "stream",
     "text": [
      "CPU times: user 1.16 ms, sys: 294 μs, total: 1.46 ms\n",
      "Wall time: 2 s\n"
     ]
    }
   ],
   "source": [
    "%%time\n",
    "# DO NOT CHANGE THIS CELL\n",
    "# %%time will time the entire cell\n",
    "sleep(1)\n",
    "sleep(1)"
   ]
  },
  {
   "cell_type": "markdown",
   "id": "aab7200a-e31b-4f8c-b99b-9192868c7d3f",
   "metadata": {},
   "source": [
    "<a name='e4'></a>\n",
    "### Exercise #4 - Jupyter Kernels and GPU Memory ###\n",
    "The compute backend for Jupyter is called the *kernel*. The Jupyter environment starts up a separate kernel for each new notebook. The many notebooks in this course are each intended to stand alone with regard to memory and computation. \n",
    "\n",
    "To ensure we have enough memory and compute for each notebook, we can clear the memory at the conclusion of each notebook in two ways: \n",
    "1. Shut down the kernel with `ipykernel.kernelapp.IPKernelApp.do_shutdown()` or\n",
    "2. Shut down the kernel through the *Running Terminals and Kernels* panel. \n",
    "\n",
    "**Instructions**: <br>\n",
    "* Execute the below cell to shut down and restart the current kernel. \n",
    "* Shut down the current kernel through the *Running Terminals and Kernels* panel.\n",
    "\n",
    "<p><img src=\"images/kernel_restart.png\" width=720></p>\n",
    "\n",
    "**Note**: Restarting the kernel from the *Kernel* menu will only clear the memory for *the current notebook's kernel*, while notebooks other than the one we're working on may still have memory allocated for *their unique kernels*. "
   ]
  },
  {
   "cell_type": "code",
   "execution_count": 7,
   "id": "3c897b29-2420-4c98-a413-7faab35cda3c",
   "metadata": {
    "scrolled": true
   },
   "outputs": [
    {
     "data": {
      "text/plain": [
       "{'status': 'ok', 'restart': False}"
      ]
     },
     "execution_count": 7,
     "metadata": {},
     "output_type": "execute_result"
    }
   ],
   "source": [
    "# DO NOT CHANGE THIS CELL\n",
    "import IPython\n",
    "app = IPython.Application.instance()\n",
    "app.kernel.do_shutdown(False)"
   ]
  },
  {
   "cell_type": "markdown",
   "id": "c103ea01-4ace-4bdb-be86-d160834ab1c0",
   "metadata": {},
   "source": [
    "**Note**: Executing the provided code cell will shut down the kernel and activate a popup indicating that the kernel has restarted."
   ]
  },
  {
   "cell_type": "markdown",
   "id": "8e950df2",
   "metadata": {},
   "source": [
    "**Well Done!** Let's move to the [next notebook](01_Single_Cell_Data_Processing.ipynb). "
   ]
  },
  {
   "cell_type": "markdown",
   "id": "b604003a",
   "metadata": {},
   "source": [
    "<img src=\"images/nvidia_header.png\" style=\"margin-left: -30px; width: 300px; float: left;\">"
   ]
  }
 ],
 "metadata": {
  "kernelspec": {
   "display_name": "Python 3 (ipykernel)",
   "language": "python",
   "name": "python3"
  },
  "language_info": {
   "codemirror_mode": {
    "name": "ipython",
    "version": 3
   },
   "file_extension": ".py",
   "mimetype": "text/x-python",
   "name": "python",
   "nbconvert_exporter": "python",
   "pygments_lexer": "ipython3",
   "version": "3.12.3"
  }
 },
 "nbformat": 4,
 "nbformat_minor": 5
}
